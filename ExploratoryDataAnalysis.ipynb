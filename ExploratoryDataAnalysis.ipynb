{
 "cells": [
  {
   "cell_type": "markdown",
   "id": "d0e3f76b",
   "metadata": {},
   "source": [
    "## Importing Required Libraries"
   ]
  },
  {
   "cell_type": "code",
   "execution_count": 1,
   "id": "7659c67e",
   "metadata": {},
   "outputs": [],
   "source": [
    "import numpy as np\n",
    "import pandas as pd\n",
    "import seaborn as sns\n",
    "import matplotlib.pyplot as plt"
   ]
  },
  {
   "cell_type": "markdown",
   "id": "91846fc1",
   "metadata": {},
   "source": [
    "## Loading the Dataset"
   ]
  },
  {
   "cell_type": "code",
   "execution_count": 2,
   "id": "fcaa47d9",
   "metadata": {},
   "outputs": [],
   "source": [
    "movies=pd.read_csv('HollywoodMovies.csv', header=0)"
   ]
  },
  {
   "cell_type": "code",
   "execution_count": 3,
   "id": "5ac1ed45",
   "metadata": {},
   "outputs": [
    {
     "name": "stdout",
     "output_type": "stream",
     "text": [
      "Order:  (970, 16)\n",
      "Attributes:  ['Movie', 'LeadStudio', 'RottenTomatoes', 'AudienceScore', 'Story', 'Genre', 'TheatersOpenWeek', 'OpeningWeekend', 'BOAvgOpenWeekend', 'DomesticGross', 'ForeignGross', 'WorldGross', 'Budget', 'Profitability', 'OpenProfit', 'Year']\n",
      "Indexes:  0  to  969\n",
      "                                       Movie   LeadStudio  RottenTomatoes  \\\n",
      "0                               Spider-Man 3         Sony            61.0   \n",
      "1                            Shrek the Third    Paramount            42.0   \n",
      "2                               Transformers    Paramount            57.0   \n",
      "3   Pirates of the Caribbean: At World's End       Disney            45.0   \n",
      "4  Harry Potter and the Order of the Phoenix  Warner Bros            78.0   \n",
      "5                                I Am Legend  Warner Bros            69.0   \n",
      "6                       The Bourne Ultimatum    Universal            93.0   \n",
      "7         National Treasure: Book of Secrets       Disney            31.0   \n",
      "8                    Alvin and the Chipmunks          Fox            26.0   \n",
      "9                                        300  Warner Bros            60.0   \n",
      "\n",
      "   AudienceScore          Story      Genre  TheatersOpenWeek  OpeningWeekend  \\\n",
      "0           54.0  Metamorphosis     Action            4252.0           151.1   \n",
      "1           57.0          Quest  Animation            4122.0           121.6   \n",
      "2           89.0  Monster Force     Action            4011.0            70.5   \n",
      "3           74.0         Rescue     Action            4362.0           114.7   \n",
      "4           82.0          Quest  Adventure            4285.0            77.1   \n",
      "5           69.0          Quest   Thriller            3606.0            77.2   \n",
      "6           91.0        Pursuit   Thriller            3660.0            69.3   \n",
      "7           72.0     The Riddle   Thriller            3832.0            44.8   \n",
      "8           73.0         Comedy  Animation            3475.0            44.3   \n",
      "9           90.0      Sacrifice     Action            3103.0            70.9   \n",
      "\n",
      "   BOAvgOpenWeekend  DomesticGross  ForeignGross  WorldGross  Budget  \\\n",
      "0           35540.0         336.53        554.34      890.87   258.0   \n",
      "1           29507.0         322.72        476.24      798.96   160.0   \n",
      "2           17577.0         319.25        390.46      709.71   150.0   \n",
      "3           26302.0         309.42        654.00      963.42   300.0   \n",
      "4           17998.0         292.00        647.88      939.89   150.0   \n",
      "5           21411.0         256.39        328.96      585.35   150.0   \n",
      "6           18929.0         227.47        215.35      442.82   110.0   \n",
      "7           11686.0         219.96        237.40      457.36   130.0   \n",
      "8           12750.0         217.33        144.01      361.34    70.0   \n",
      "9           22844.0         210.61        245.45      456.07    65.0   \n",
      "\n",
      "   Profitability  OpenProfit  Year  \n",
      "0         345.30       58.57  2007  \n",
      "1         499.35       76.00  2007  \n",
      "2         473.14       47.00  2007  \n",
      "3         321.14       38.23  2007  \n",
      "4         626.59       51.40  2007  \n",
      "5         390.23       51.47  2007  \n",
      "6         402.57       63.00  2007  \n",
      "7         351.82       34.46  2007  \n",
      "8         516.19       63.29  2007  \n",
      "9         701.64      109.08  2007  \n"
     ]
    }
   ],
   "source": [
    "print('Order: ', movies.shape)\n",
    "print('Attributes: ', movies.columns.tolist())\n",
    "print('Indexes: ',min(movies.index.tolist()),' to ',max(movies.index.tolist()))\n",
    "print(movies.head(10))"
   ]
  },
  {
   "cell_type": "code",
   "execution_count": 5,
   "id": "e0f56fec",
   "metadata": {},
   "outputs": [],
   "source": [
    "#create columns\n",
    "columns=movies.columns.tolist()"
   ]
  },
  {
   "cell_type": "markdown",
   "id": "a963e56d",
   "metadata": {},
   "source": [
    "## Printing Summary"
   ]
  },
  {
   "cell_type": "code",
   "execution_count": 6,
   "id": "c2eee672",
   "metadata": {},
   "outputs": [
    {
     "name": "stdout",
     "output_type": "stream",
     "text": [
      "       RottenTomatoes  AudienceScore  TheatersOpenWeek  OpeningWeekend  \\\n",
      "count      913.000000     907.000000        949.000000      969.000000   \n",
      "mean        51.707558      61.271224       2495.246575       20.620826   \n",
      "std         26.821268      16.602457       1164.223356       25.338689   \n",
      "min          0.000000      19.000000          1.000000        0.010000   \n",
      "25%         28.000000      49.000000       2054.000000        5.300000   \n",
      "50%         52.000000      61.000000       2798.000000       13.150000   \n",
      "75%         75.000000      74.000000       3285.000000       26.200000   \n",
      "max         99.000000      96.000000       4468.000000      207.440000   \n",
      "\n",
      "       BOAvgOpenWeekend  DomesticGross  ForeignGross   WorldGross      Budget  \\\n",
      "count        945.000000     970.000000    876.000000   914.000000  897.000000   \n",
      "mean        8562.593651      68.162544    101.237419   169.009945   56.117168   \n",
      "std        10645.135565      80.409969    155.987696   227.744380   53.755914   \n",
      "min           28.000000       0.060000      0.000000     0.100000    0.000000   \n",
      "25%         3528.000000      17.565000     16.667500    38.357500   20.000000   \n",
      "50%         5983.000000      40.415000     46.655000    88.180000   35.000000   \n",
      "75%         9790.000000      89.252500    111.908750   202.310000   75.000000   \n",
      "max       147262.000000     760.500000   2021.000000  2781.500000  300.000000   \n",
      "\n",
      "       Profitability   OpenProfit         Year  \n",
      "count     896.000000   895.000000   970.000000  \n",
      "mean      384.620100    62.223575  2010.236082  \n",
      "std       631.666012   159.713218     1.954840  \n",
      "min         2.300000     0.160000  2007.000000  \n",
      "25%       150.020000    19.505000  2009.000000  \n",
      "50%       254.820000    34.610000  2010.000000  \n",
      "75%       417.987500    58.375000  2012.000000  \n",
      "max     10175.850000  3373.000000  2013.000000  \n"
     ]
    }
   ],
   "source": [
    "print(movies.describe())\n",
    "# statistical summary"
   ]
  },
  {
   "cell_type": "code",
   "execution_count": null,
   "id": "8b476b04",
   "metadata": {},
   "outputs": [],
   "source": [
    "print(movies.info())\n",
    "# logical summary"
   ]
  },
  {
   "cell_type": "markdown",
   "id": "3dd2c5c4",
   "metadata": {},
   "source": [
    "## Check Missing Values"
   ]
  },
  {
   "cell_type": "code",
   "execution_count": 10,
   "id": "f40518d6",
   "metadata": {},
   "outputs": [
    {
     "name": "stdout",
     "output_type": "stream",
     "text": [
      "Movie               0\n",
      "LeadStudio          0\n",
      "RottenTomatoes      0\n",
      "AudienceScore       0\n",
      "Story               0\n",
      "Genre               0\n",
      "TheatersOpenWeek    0\n",
      "OpeningWeekend      0\n",
      "BOAvgOpenWeekend    0\n",
      "DomesticGross       0\n",
      "ForeignGross        0\n",
      "WorldGross          0\n",
      "Budget              0\n",
      "Profitability       0\n",
      "OpenProfit          0\n",
      "Year                0\n",
      "dtype: int64\n"
     ]
    }
   ],
   "source": [
    "print(movies.isna().sum())"
   ]
  },
  {
   "cell_type": "markdown",
   "id": "592087db",
   "metadata": {},
   "source": [
    "## Cleaning Missing Values"
   ]
  },
  {
   "cell_type": "code",
   "execution_count": 8,
   "id": "e3d6c2fb",
   "metadata": {},
   "outputs": [
    {
     "name": "stderr",
     "output_type": "stream",
     "text": [
      "C:\\Users\\CBSS2\\AppData\\Local\\Temp\\ipykernel_13112\\1276306151.py:3: FutureWarning: A value is trying to be set on a copy of a DataFrame or Series through chained assignment using an inplace method.\n",
      "The behavior will change in pandas 3.0. This inplace method will never work because the intermediate object on which we are setting values always behaves as a copy.\n",
      "\n",
      "For example, when doing 'df[col].method(value, inplace=True)', try using 'df.method({col: value}, inplace=True)' or df[col] = df[col].method(value) instead, to perform the operation inplace on the original object.\n",
      "\n",
      "\n",
      "  movies[column].fillna(movies[column].mean(), inplace=True)\n"
     ]
    }
   ],
   "source": [
    "for column in columns:\n",
    "    if((movies[column].dtype=='float64') and (movies[column].isna().sum()>0)):\n",
    "        movies[column].fillna(movies[column].mean(), inplace=True)\n",
    "# filling missing floats with mean"
   ]
  },
  {
   "cell_type": "code",
   "execution_count": 9,
   "id": "75e85dd4",
   "metadata": {},
   "outputs": [],
   "source": [
    "movies.dropna(inplace=True, axis=0)\n",
    "# dropping string nas and year nas"
   ]
  },
  {
   "cell_type": "code",
   "execution_count": 11,
   "id": "35ddd23e",
   "metadata": {},
   "outputs": [
    {
     "name": "stdout",
     "output_type": "stream",
     "text": [
      "Order:  (630, 16)\n"
     ]
    }
   ],
   "source": [
    "print('Order: ', movies.shape)\n",
    "# check order"
   ]
  },
  {
   "cell_type": "markdown",
   "id": "a0f541b6",
   "metadata": {},
   "source": [
    "## Plot Analysis"
   ]
  },
  {
   "cell_type": "markdown",
   "id": "72c9f195",
   "metadata": {},
   "source": [
    "#### Histogram"
   ]
  },
  {
   "cell_type": "code",
   "execution_count": null,
   "id": "ac41d285",
   "metadata": {},
   "outputs": [],
   "source": [
    "plt.hist(movies['RottenTomatoes'], bins=40, label='Rotten Tomatoes Score')\n",
    "plt.title('Rotten Tomatoes Score Distribution')\n",
    "plt.show()\n",
    "# histogram showing distribution of rotten tomatoes scores"
   ]
  },
  {
   "cell_type": "code",
   "execution_count": null,
   "id": "0d9cfd2c",
   "metadata": {},
   "outputs": [],
   "source": [
    "plt.hist(movies['Profitability'], bins=40, label='Profitability')\n",
    "plt.title('Profitability Distribution')\n",
    "plt.show()\n",
    "# histogram showing distribution of profitabilty"
   ]
  },
  {
   "cell_type": "markdown",
   "id": "d8a87d42",
   "metadata": {},
   "source": [
    "#### Countplot"
   ]
  },
  {
   "cell_type": "code",
   "execution_count": null,
   "id": "c93b6a91",
   "metadata": {},
   "outputs": [],
   "source": [
    "plt.figure(figsize=(15,15))\n",
    "sns.countplot(data=movies, x='Genre')\n",
    "plt.show()\n",
    "# number of movies in each genre"
   ]
  },
  {
   "cell_type": "markdown",
   "metadata": {},
   "source": [
    "#### Scatterplot"
   ]
  },
  {
   "cell_type": "code",
   "execution_count": null,
   "id": "05a96fd8",
   "metadata": {},
   "outputs": [],
   "source": [
    "plt.figure(figsize=(15,15))\n",
    "sns.scatterplot(x=movies['Budget'], y=movies['WorldGross'])\n",
    "plt.xlabel('Budget')\n",
    "plt.ylabel('Gross')\n",
    "plt.title('Gross v/s Budget')\n",
    "plt.show()\n",
    "# plot for gross relation with budget"
   ]
  },
  {
   "cell_type": "markdown",
   "id": "9427a5db",
   "metadata": {},
   "source": [
    "#### Hexbinplot"
   ]
  },
  {
   "cell_type": "code",
   "execution_count": null,
   "id": "d5e65af1",
   "metadata": {},
   "outputs": [],
   "source": [
    "plt.figure(figsize=(10,10))\n",
    "sns.jointplot(kind='hex', x=movies['Budget'], y=movies['WorldGross'], color='black')\n",
    "plt.xlabel('Budget')\n",
    "plt.ylabel('Gross')\n",
    "plt.title('Gross v/s Budget')\n",
    "plt.tight_layout()\n",
    "plt.show()\n",
    "# plot for gross relation with budget"
   ]
  },
  {
   "cell_type": "markdown",
   "metadata": {},
   "source": [
    "## Group Analysis"
   ]
  },
  {
   "cell_type": "code",
   "execution_count": null,
   "id": "0c8c843b",
   "metadata": {},
   "outputs": [],
   "source": [
    "genre_gross=movies.groupby('Genre')['WorldGross'].mean().tolist()\n",
    "genres=movies['Genre'].drop_duplicates().sort_values().tolist()\n",
    "plt.figure(figsize=(15,10))\n",
    "plt.bar(x=genres, height=genre_gross)\n",
    "plt.ylabel('Avg Gross')\n",
    "plt.title('Avg Gross by Genre')\n",
    "plt.show()\n",
    "# genre mean grosses"
   ]
  },
  {
   "cell_type": "code",
   "execution_count": null,
   "id": "4b9ab331",
   "metadata": {},
   "outputs": [],
   "source": [
    "plt.figure(figsize=(10,6))\n",
    "sns.boxplot(x='Genre', y='AudienceScore', data=movies)\n",
    "plt.xticks(rotation=90)\n",
    "plt.title('Audience Score by Genre')\n",
    "plt.show()\n",
    "# audience scores by genre"
   ]
  },
  {
   "cell_type": "markdown",
   "id": "2c9a1c83",
   "metadata": {},
   "source": [
    "## Removal of Outliers"
   ]
  },
  {
   "cell_type": "code",
   "execution_count": null,
   "id": "b0261afb",
   "metadata": {},
   "outputs": [],
   "source": [
    "sns.boxplot(x=movies['Profitability'])\n",
    "plt.show()\n",
    "# check if outliers present"
   ]
  },
  {
   "cell_type": "code",
   "execution_count": null,
   "id": "97eb7e1d",
   "metadata": {},
   "outputs": [],
   "source": [
    "Q1,Med,Q3=np.percentile(movies['Profitability'],[25,50,75])\n",
    "IQR=Q3-Q1\n",
    "minimum=Q1-1.5*IQR\n",
    "maximum=Q3+1.5*IQR\n",
    "movies=movies[(movies['Profitability']>=minimum) & (movies['Profitability']<=maximum)]"
   ]
  }
 ],
 "metadata": {
  "kernelspec": {
   "display_name": "myenv",
   "language": "python",
   "name": "python3"
  },
  "language_info": {
   "codemirror_mode": {
    "name": "ipython",
    "version": 3
   },
   "file_extension": ".py",
   "mimetype": "text/x-python",
   "name": "python",
   "nbconvert_exporter": "python",
   "pygments_lexer": "ipython3",
   "version": "3.13.3"
  }
 },
 "nbformat": 4,
 "nbformat_minor": 5
}
